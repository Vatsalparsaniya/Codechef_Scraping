{
 "cells": [
  {
   "cell_type": "code",
   "execution_count": 296,
   "metadata": {},
   "outputs": [],
   "source": [
    "import os\n",
    "import re\n",
    "import urllib.request\n",
    "from bs4 import BeautifulSoup\n",
    "import os\n",
    "import csv\n",
    "import time\n",
    "import requests\n",
    "from urllib.request import Request, urlopen\n",
    "import json"
   ]
  },
  {
   "cell_type": "code",
   "execution_count": 300,
   "metadata": {},
   "outputs": [],
   "source": [
    "Contest_name = \"AUG19B\"\n",
    "User_name = \"vatsal1999\"\n",
    "Contest_URL = \"https://www.codechef.com/{}/\".format(Contest_name)\n",
    "Contest_page = requests.get(Contest_URL)\n",
    "wait_time = 15"
   ]
  },
  {
   "cell_type": "code",
   "execution_count": 301,
   "metadata": {},
   "outputs": [],
   "source": [
    "Contest_page_content = BeautifulSoup(Contest_page.content,'html.parser')\n",
    "#print(Contest_page_content)\n",
    "data = [['Name','Code','Successful Submissions','Accuracy']]\n",
    "Problem_code_URL = []\n",
    "for row in Contest_page_content.findAll('tr',attrs={'class':'problemrow'}):\n",
    "    #print(row)\n",
    "    row_data =[]\n",
    "    problem_name = row.findAll('b')[0].text\n",
    "    problem_code = row.findAll('td')[1].text\n",
    "    problem_Successful_Submission = row.findAll('div')[2].text\n",
    "    problem_Accuracy = row.findAll('a')[1].text\n",
    "    row_data.append(problem_name)\n",
    "    row_data.append(problem_code)\n",
    "    row_data.append(problem_Successful_Submission)\n",
    "    row_data.append(problem_Accuracy)\n",
    "    Problem_code_URL.append(problem_code)\n",
    "    data.append(row_data)"
   ]
  },
  {
   "cell_type": "code",
   "execution_count": 302,
   "metadata": {},
   "outputs": [
    {
     "name": "stdout",
     "output_type": "stream",
     "text": [
      "------------------------------------------------------------------------------------------\n",
      "Name                                    Code           Successful Submissions   Accuracy  \n",
      "------------------------------------------------------------------------------------------\n",
      "Football                                MSNSADM1       20448                    58.14     \n",
      "Distribute Apples                       DSTAPLS        15215                    21.49     \n",
      "Dilemma                                 CHEFDIL        13069                    34.42     \n",
      "Zombie and the Caves                    ZOMCAV         8333                     16.78     \n",
      "Guddu and his Mother                    KS1            3222                     8.79      \n",
      "Encoding                                ENCODING       302                      2.1       \n",
      "Maximize an Expression                  MAXEXPR        209                      16.71     \n",
      "Chef and Gordon Ramsay                  CHGORAM        87                       1.88      \n",
      "(Challenge) Bacteria Synthesis          SYNBAC         10                       42.31     \n",
      "Complement Spanning Trees               CSTREE         5                        10.87     \n",
      "Tree Sequences                          TSEQ           1                        3.33      \n"
     ]
    }
   ],
   "source": [
    "dash = '-'*90\n",
    "for i in range(len(data)):\n",
    "    if i == 0:\n",
    "        print(dash)\n",
    "        print('{:<40s}{:<15s}{:<25s}{:<10s}'.format(data[i][0],data[i][1],data[i][2],data[i][3]))\n",
    "        print(dash)\n",
    "    else:\n",
    "        print('{:<40s}{:<15s}{:<25s}{:<10s}'.format(data[i][0],data[i][1],data[i][2],data[i][3]))"
   ]
  },
  {
   "cell_type": "code",
   "execution_count": 303,
   "metadata": {
    "scrolled": false
   },
   "outputs": [],
   "source": [
    "for url_code in Problem_code_URL:\n",
    "    problem_page_url = Contest_URL + 'problems/' + url_code+'/'\n",
    "    page = requests.get(problem_page_url)\n",
    "    page_contest = BeautifulSoup(page.content,'html.parser')\n",
    "#   print(page_contest)\n",
    "    statement = page_contest.findAll('div',attrs={'class':'content'})\n",
    "    a = statement[1].text\n",
    "    b = re.sub('[$]', '', a)\n",
    "    b = b.replace(\"\\le\",\"<\").replace(\"\\ldots\",\"...\").replace(\"\\in\",\"∈\").replace(\"\\oplus\",\"⊕\").replace(\"\\{\",\"{\")\n",
    "    b =b.replace(\"\\}\",\"}\").replace(\"\\sum_{i=1}^{N-1}\",\"i=1∑N−1\").replace(\"**\",\"\").replace(\"`\",\"\").replace(\"\\neq\",\"≠\")\n",
    "    b =b.replace(\"*\",\"\").replace(\"\\rightarrow\",\"->\").replace(\"\\ge\",\">\").replace(\" \\cdot \",\"*\").replace(\"\\neq\",\"≠\")\n",
    "#   print(type(b))\n",
    "    file_name = filename = \"Problem_Statement/{}/\".format(url_code)+\"{}.txt\".format(url_code)\n",
    "    if not os.path.exists(os.path.dirname(file_name)):\n",
    "            try:\n",
    "                os.makedirs(os.path.dirname(file_name))\n",
    "            except OSError as exc: # Guard against race condition\n",
    "                if exc.errno != errno.EEXIST:\n",
    "                    raise\n",
    "    f= open(file_name,\"w+\",encoding='utf-8')\n",
    "    f.write(str(b))\n",
    "    f.close()"
   ]
  },
  {
   "cell_type": "code",
   "execution_count": null,
   "metadata": {},
   "outputs": [],
   "source": [
    "# tr bgcolor='\\\"$bgcolor\\\"' class='\\\"kol\\\"' style='\\\"height:40px;\\\"'><td width=\"60\">25079318</td><td width=\"50\">01:18 PM 06/07/19</td><td width=\"144\"><a href=\"/users/vatsal1999\" target=\"_blank\" title=\"vatsal1999\"><span class=\"rating\" style=\"display: inline-block; \n",
    "#                     font-size: 10px; \n",
    "#                     background: #3366CC;\n",
    "#                     padding: 0 3px; \n",
    "#                     line-height: 1.3; \n",
    "#                     color: white;\n",
    "#                     margin-right: 2px;\">3★</span><span>vatsal1999</span></a></td><td\n",
    "#                         class=\"centered\" width=\"51\"><span title=\"\"><img src=\"/misc/tick-icon.gif\"/><br/>100<br/>\n",
    "#                         [100pts]</span></td><td class=\"centered\" width=\"47\">0.00</td><td class=\"centered\" width=\"47\">\n",
    "#                         15.2M</td><td class=\"centered\" width=\"70\">C++14</td><td class=\"centered\" width=\"75\"><ul><li>\n",
    "#                         <a href=\"/viewsolution/25079318\" target=\"_blank\">View</a></li></ul></td></tr><tr\n",
    "#                         bgcolor='\\\"$bgcolor\\\"' class='\\\"kol\\\"' style='\\\"height:40px;\\\"'><td width=\"60\">25079257\n",
    "#                         </td><td width=\"50\">01:16 PM 06/07/19</td><td width=\"144\"><a href=\"/users/vatsal1999\" target=\"_blank\" \n",
    "#                         title=\"vatsal1999\"><span class=\"rating\" style=\"display: inline-block;"
   ]
  },
  {
   "cell_type": "code",
   "execution_count": 293,
   "metadata": {},
   "outputs": [
    {
     "name": "stdout",
     "output_type": "stream",
     "text": [
      "CHFM\n",
      "[<td width=\"60\">25075022</td>]\n",
      "https://www.codechef.com/viewplaintext/25075022\n",
      "MMAX\n",
      "[<td width=\"60\">25079318</td>, <td width=\"60\">25079257</td>, <td width=\"60\">25078610</td>]\n",
      "https://www.codechef.com/viewplaintext/25079318\n",
      "https://www.codechef.com/viewplaintext/25079257\n",
      "https://www.codechef.com/viewplaintext/25078610\n",
      "PRTAGN\n",
      "[<td width=\"60\">25091394</td>]\n",
      "https://www.codechef.com/viewplaintext/25091394\n",
      "GUESSPRM\n",
      "[<td width=\"60\">25173169</td>, <td width=\"60\">25170482</td>]\n",
      "https://www.codechef.com/viewplaintext/25173169\n",
      "https://www.codechef.com/viewplaintext/25170482\n",
      "CIRMERGE\n",
      "[<td width=\"60\">25292972</td>, <td width=\"60\">25120400</td>]\n",
      "https://www.codechef.com/viewplaintext/25292972\n",
      "https://www.codechef.com/viewplaintext/25120400\n",
      "CHFWAR\n",
      "[<td width=\"60\">25245761</td>]\n",
      "https://www.codechef.com/viewplaintext/25245761\n",
      "CCC\n",
      "[]\n",
      "CHFWAR2\n",
      "[]\n",
      "SNKAPT\n",
      "[]\n",
      "MXMN\n",
      "[]\n",
      "LVMFFN\n",
      "[]\n"
     ]
    }
   ],
   "source": [
    "for url_code in Problem_code_URL:\n",
    "    print(url_code)\n",
    "    Sloution_Status_url = Contest_URL + \"status/\" +url_code+\",\"+User_name\n",
    "    page_content = requests.get(Sloution_Status_url)\n",
    "    page = BeautifulSoup(page_content.content,'html.parser')\n",
    "#         print(page)\n",
    "#         print(page.findAll('span',attrs={'class':'rating'})[0].text)\n",
    "#     print(page.findAll('span',attrs={'title':''})[4])\n",
    "    ID = page.findAll('td',attrs={'width':'60'})\n",
    "    print(ID)\n",
    "    j=1\n",
    "    for sub_id in ID:\n",
    "        solution_view_url = \"https://www.codechef.com/viewplaintext/\" + sub_id.text\n",
    "        print(solution_view_url)\n",
    "#         solution_view_page = requests.get(solution_view_url)\n",
    "#         view_page = BeautifulSoup(solution_view_page.content,'html.parser')\n",
    "#         print(view_page)\n",
    "        req = Request(solution_view_url, headers={'User-Agent': 'Mozilla/5.0'})\n",
    "        webpage = urlopen(req).read()\n",
    "        webpage = BeautifulSoup(webpage,'html.parser')\n",
    "        z = webpage.find('pre').text\n",
    "        filename = \"Solutions/{}/\".format(url_code)+\"{}_{}.txt\".format(url_code,j)\n",
    "        j=j+1\n",
    "        if not os.path.exists(os.path.dirname(filename)):\n",
    "            try:\n",
    "                os.makedirs(os.path.dirname(filename))\n",
    "            except OSError as exc: # Guard against race condition\n",
    "                if exc.errno != errno.EEXIST:\n",
    "                    raise\n",
    "        f= open(filename,\"w+\",encoding='utf-8')\n",
    "        f.write(z)\n",
    "        f.close()"
   ]
  },
  {
   "cell_type": "code",
   "execution_count": null,
   "metadata": {},
   "outputs": [],
   "source": []
  },
  {
   "cell_type": "code",
   "execution_count": null,
   "metadata": {},
   "outputs": [],
   "source": []
  }
 ],
 "metadata": {
  "kernelspec": {
   "display_name": "Python 3",
   "language": "python",
   "name": "python3"
  },
  "language_info": {
   "codemirror_mode": {
    "name": "ipython",
    "version": 3
   },
   "file_extension": ".py",
   "mimetype": "text/x-python",
   "name": "python",
   "nbconvert_exporter": "python",
   "pygments_lexer": "ipython3",
   "version": "3.7.2"
  }
 },
 "nbformat": 4,
 "nbformat_minor": 2
}
